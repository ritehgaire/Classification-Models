{
 "cells": [
  {
   "cell_type": "code",
   "execution_count": 1,
   "id": "c0d4be55-5b73-466d-a9ef-306f7aba198d",
   "metadata": {},
   "outputs": [],
   "source": [
    "#It turns out that finding the edges in an image is a very common task in computer vision and is surprisingly straightforward\n",
    "#. To do it, we use something called a convo‐ lution. A convolution requires nothing more than multiplication and addition"
   ]
  },
  {
   "cell_type": "code",
   "execution_count": 2,
   "id": "ab9fdd56-9ce4-4f64-bb73-2a7c0f3b9cc8",
   "metadata": {},
   "outputs": [],
   "source": [
    "#A convolution applies a kernel across an image. A \"kernel\" is a little matrix, such as the 3×3 matrix "
   ]
  },
  {
   "cell_type": "code",
   "execution_count": 25,
   "id": "50a278fe-a9d2-4bd9-932f-cf67ac3e83eb",
   "metadata": {},
   "outputs": [],
   "source": [
    "top_edge = tensor([[-1,-1,-1],\n",
    "                   [ 0, 0, 0],\n",
    "                   [ 1, 1, 1]]).float()"
   ]
  },
  {
   "cell_type": "code",
   "execution_count": 44,
   "id": "472f38d3-56a1-4b8e-b6cd-97716f85f5e0",
   "metadata": {},
   "outputs": [
    {
     "data": {
      "image/png": "[encoded data removed]",
      "text/plain": [
       "<Figure size 100x100 with 1 Axes>"
      ]
     },
     "metadata": {},
     "output_type": "display_data"
    }
   ],
   "source": [
    "from PIL import Image\n",
    "import torch\n",
    "from torchvision.transforms.functional import to_tensor\n",
    "from fastai.vision.all import *\n",
    "\n",
    "path = untar_data(URLs.MNIST_SAMPLE)\n",
    "im3 = Image.open(path/'train'/'3'/'12.png')\n",
    "show_image(im3);"
   ]
  },
  {
   "cell_type": "code",
   "execution_count": 45,
   "id": "89067fb9-bb7f-4476-8778-e8809adf34b8",
   "metadata": {},
   "outputs": [
    {
     "data": {
      "text/plain": [
       "tensor(0.)"
      ]
     },
     "execution_count": 45,
     "metadata": {},
     "output_type": "execute_result"
    }
   ],
   "source": [
    "im3_t = tensor(im3)\n",
    "im3_t[0:3,0:3] * top_edge\n",
    "tensor([[-0., -0., -0.],\n",
    "        [0., 0., 0.],\n",
    "        [0., 0., 0.]])\n",
    "(im3_t[0:3,0:3] * top_edge).sum()"
   ]
  },
  {
   "cell_type": "code",
   "execution_count": 46,
   "id": "a0bca1b6-e9b2-4994-b97f-1aa3b7b9a5a2",
   "metadata": {},
   "outputs": [
    {
     "data": {
      "text/html": [
       "<style type=\"text/css\">\n",
       "#T_3678f_row0_col0, #T_3678f_row0_col1, #T_3678f_row0_col2, #T_3678f_row0_col3, #T_3678f_row0_col4, #T_3678f_row0_col5, #T_3678f_row0_col6, #T_3678f_row0_col7, #T_3678f_row0_col8, #T_3678f_row0_col9, #T_3678f_row0_col10, #T_3678f_row0_col11, #T_3678f_row0_col12, #T_3678f_row0_col13, #T_3678f_row0_col14, #T_3678f_row0_col15, #T_3678f_row0_col16, #T_3678f_row0_col17, #T_3678f_row0_col18, #T_3678f_row0_col19, #T_3678f_row1_col0, #T_3678f_row1_col1, #T_3678f_row1_col2, #T_3678f_row1_col3, #T_3678f_row1_col4, #T_3678f_row1_col5, #T_3678f_row1_col6, #T_3678f_row1_col7, #T_3678f_row1_col8, #T_3678f_row1_col9, #T_3678f_row1_col10, #T_3678f_row1_col11, #T_3678f_row1_col12, #T_3678f_row1_col13, #T_3678f_row1_col14, #T_3678f_row1_col15, #T_3678f_row1_col16, #T_3678f_row1_col17, #T_3678f_row1_col18, #T_3678f_row1_col19, #T_3678f_row2_col0, #T_3678f_row2_col1, #T_3678f_row2_col2, #T_3678f_row2_col3, #T_3678f_row2_col4, #T_3678f_row2_col5, #T_3678f_row2_col6, #T_3678f_row2_col7, #T_3678f_row2_col8, #T_3678f_row2_col9, #T_3678f_row2_col10, #T_3678f_row2_col11, #T_3678f_row2_col12, #T_3678f_row2_col13, #T_3678f_row2_col14, #T_3678f_row2_col15, #T_3678f_row2_col16, #T_3678f_row2_col17, #T_3678f_row2_col18, #T_3678f_row2_col19, #T_3678f_row3_col0, #T_3678f_row3_col1, #T_3678f_row3_col2, #T_3678f_row3_col3, #T_3678f_row3_col4, #T_3678f_row3_col5, #T_3678f_row3_col6, #T_3678f_row3_col7, #T_3678f_row3_col8, #T_3678f_row3_col9, #T_3678f_row3_col10, #T_3678f_row3_col11, #T_3678f_row3_col12, #T_3678f_row3_col13, #T_3678f_row3_col14, #T_3678f_row3_col15, #T_3678f_row3_col16, #T_3678f_row3_col17, #T_3678f_row3_col18, #T_3678f_row3_col19, #T_3678f_row4_col0, #T_3678f_row4_col1, #T_3678f_row4_col2, #T_3678f_row4_col3, #T_3678f_row4_col4, #T_3678f_row4_col5, #T_3678f_row4_col6, #T_3678f_row4_col7, #T_3678f_row4_col8, #T_3678f_row4_col9, #T_3678f_row4_col10, #T_3678f_row4_col11, #T_3678f_row4_col12, #T_3678f_row4_col13, #T_3678f_row4_col14, #T_3678f_row4_col15, #T_3678f_row4_col16, #T_3678f_row4_col17, #T_3678f_row4_col18, #T_3678f_row4_col19, #T_3678f_row5_col0, #T_3678f_row5_col1, #T_3678f_row5_col2, #T_3678f_row5_col16, #T_3678f_row5_col17, #T_3678f_row5_col18, #T_3678f_row5_col19, #T_3678f_row6_col0, #T_3678f_row6_col1, #T_3678f_row6_col2, #T_3678f_row6_col19, #T_3678f_row7_col0, #T_3678f_row7_col1, #T_3678f_row7_col2, #T_3678f_row7_col19, #T_3678f_row8_col0, #T_3678f_row8_col1, #T_3678f_row8_col2, #T_3678f_row8_col8, #T_3678f_row8_col9, #T_3678f_row8_col10, #T_3678f_row8_col11, #T_3678f_row8_col12, #T_3678f_row8_col13, #T_3678f_row8_col19, #T_3678f_row9_col0, #T_3678f_row9_col1, #T_3678f_row9_col2, #T_3678f_row9_col3, #T_3678f_row9_col4, #T_3678f_row9_col5, #T_3678f_row9_col6, #T_3678f_row9_col7, #T_3678f_row9_col8, #T_3678f_row9_col9, #T_3678f_row9_col10, #T_3678f_row9_col11, #T_3678f_row9_col12, #T_3678f_row9_col13, #T_3678f_row9_col19 {\n",
       "  font-size: 6pt;\n",
       "  background-color: #ffffff;\n",
       "  color: #000000;\n",
       "}\n",
       "#T_3678f_row5_col3, #T_3678f_row8_col14 {\n",
       "  font-size: 6pt;\n",
       "  background-color: #f9f9f9;\n",
       "  color: #000000;\n",
       "}\n",
       "#T_3678f_row5_col4 {\n",
       "  font-size: 6pt;\n",
       "  background-color: #b9b9b9;\n",
       "  color: #000000;\n",
       "}\n",
       "#T_3678f_row5_col5 {\n",
       "  font-size: 6pt;\n",
       "  background-color: #c1c1c1;\n",
       "  color: #000000;\n",
       "}\n",
       "#T_3678f_row5_col6 {\n",
       "  font-size: 6pt;\n",
       "  background-color: #858585;\n",
       "  color: #f1f1f1;\n",
       "}\n",
       "#T_3678f_row5_col7, #T_3678f_row5_col10, #T_3678f_row5_col11, #T_3678f_row5_col12, #T_3678f_row5_col13 {\n",
       "  font-size: 6pt;\n",
       "  background-color: #777777;\n",
       "  color: #f1f1f1;\n",
       "}\n",
       "#T_3678f_row5_col8 {\n",
       "  font-size: 6pt;\n",
       "  background-color: #090909;\n",
       "  color: #f1f1f1;\n",
       "}\n",
       "#T_3678f_row5_col9 {\n",
       "  font-size: 6pt;\n",
       "  background-color: #5b5b5b;\n",
       "  color: #f1f1f1;\n",
       "}\n",
       "#T_3678f_row5_col14 {\n",
       "  font-size: 6pt;\n",
       "  background-color: #919191;\n",
       "  color: #f1f1f1;\n",
       "}\n",
       "#T_3678f_row5_col15 {\n",
       "  font-size: 6pt;\n",
       "  background-color: #e1e1e1;\n",
       "  color: #000000;\n",
       "}\n",
       "#T_3678f_row6_col3 {\n",
       "  font-size: 6pt;\n",
       "  background-color: #727272;\n",
       "  color: #f1f1f1;\n",
       "}\n",
       "#T_3678f_row6_col4, #T_3678f_row6_col5, #T_3678f_row6_col6, #T_3678f_row6_col7, #T_3678f_row6_col8, #T_3678f_row6_col9, #T_3678f_row6_col10, #T_3678f_row6_col11, #T_3678f_row6_col12, #T_3678f_row6_col13, #T_3678f_row6_col14, #T_3678f_row7_col3, #T_3678f_row7_col4, #T_3678f_row7_col5, #T_3678f_row7_col6, #T_3678f_row7_col15, #T_3678f_row7_col16, #T_3678f_row7_col17, #T_3678f_row8_col16, #T_3678f_row8_col17, #T_3678f_row8_col18, #T_3678f_row9_col15, #T_3678f_row9_col16 {\n",
       "  font-size: 6pt;\n",
       "  background-color: #000000;\n",
       "  color: #f1f1f1;\n",
       "}\n",
       "#T_3678f_row6_col15 {\n",
       "  font-size: 6pt;\n",
       "  background-color: #020202;\n",
       "  color: #f1f1f1;\n",
       "}\n",
       "#T_3678f_row6_col16 {\n",
       "  font-size: 6pt;\n",
       "  background-color: #363636;\n",
       "  color: #f1f1f1;\n",
       "}\n",
       "#T_3678f_row6_col17 {\n",
       "  font-size: 6pt;\n",
       "  background-color: #9d9d9d;\n",
       "  color: #f1f1f1;\n",
       "}\n",
       "#T_3678f_row6_col18 {\n",
       "  font-size: 6pt;\n",
       "  background-color: #dfdfdf;\n",
       "  color: #000000;\n",
       "}\n",
       "#T_3678f_row7_col7 {\n",
       "  font-size: 6pt;\n",
       "  background-color: #161616;\n",
       "  color: #f1f1f1;\n",
       "}\n",
       "#T_3678f_row7_col8, #T_3678f_row7_col9, #T_3678f_row7_col10, #T_3678f_row7_col11, #T_3678f_row7_col13 {\n",
       "  font-size: 6pt;\n",
       "  background-color: #535353;\n",
       "  color: #f1f1f1;\n",
       "}\n",
       "#T_3678f_row7_col12 {\n",
       "  font-size: 6pt;\n",
       "  background-color: #7c7c7c;\n",
       "  color: #f1f1f1;\n",
       "}\n",
       "#T_3678f_row7_col14 {\n",
       "  font-size: 6pt;\n",
       "  background-color: #3d3d3d;\n",
       "  color: #f1f1f1;\n",
       "}\n",
       "#T_3678f_row7_col18 {\n",
       "  font-size: 6pt;\n",
       "  background-color: #999999;\n",
       "  color: #f1f1f1;\n",
       "}\n",
       "#T_3678f_row8_col3 {\n",
       "  font-size: 6pt;\n",
       "  background-color: #eaeaea;\n",
       "  color: #000000;\n",
       "}\n",
       "#T_3678f_row8_col4 {\n",
       "  font-size: 6pt;\n",
       "  background-color: #d0d0d0;\n",
       "  color: #000000;\n",
       "}\n",
       "#T_3678f_row8_col5, #T_3678f_row8_col6 {\n",
       "  font-size: 6pt;\n",
       "  background-color: #eeeeee;\n",
       "  color: #000000;\n",
       "}\n",
       "#T_3678f_row8_col7 {\n",
       "  font-size: 6pt;\n",
       "  background-color: #f3f3f3;\n",
       "  color: #000000;\n",
       "}\n",
       "#T_3678f_row8_col15 {\n",
       "  font-size: 6pt;\n",
       "  background-color: #232323;\n",
       "  color: #f1f1f1;\n",
       "}\n",
       "#T_3678f_row9_col14 {\n",
       "  font-size: 6pt;\n",
       "  background-color: #c2c2c2;\n",
       "  color: #000000;\n",
       "}\n",
       "#T_3678f_row9_col17 {\n",
       "  font-size: 6pt;\n",
       "  background-color: #080808;\n",
       "  color: #f1f1f1;\n",
       "}\n",
       "#T_3678f_row9_col18 {\n",
       "  font-size: 6pt;\n",
       "  background-color: #c4c4c4;\n",
       "  color: #000000;\n",
       "}\n",
       "</style>\n",
       "<table id=\"T_3678f\">\n",
       "  <thead>\n",
       "    <tr>\n",
       "      <th class=\"blank level0\" >&nbsp;</th>\n",
       "      <th id=\"T_3678f_level0_col0\" class=\"col_heading level0 col0\" >0</th>\n",
       "      <th id=\"T_3678f_level0_col1\" class=\"col_heading level0 col1\" >1</th>\n",
       "      <th id=\"T_3678f_level0_col2\" class=\"col_heading level0 col2\" >2</th>\n",
       "      <th id=\"T_3678f_level0_col3\" class=\"col_heading level0 col3\" >3</th>\n",
       "      <th id=\"T_3678f_level0_col4\" class=\"col_heading level0 col4\" >4</th>\n",
       "      <th id=\"T_3678f_level0_col5\" class=\"col_heading level0 col5\" >5</th>\n",
       "      <th id=\"T_3678f_level0_col6\" class=\"col_heading level0 col6\" >6</th>\n",
       "      <th id=\"T_3678f_level0_col7\" class=\"col_heading level0 col7\" >7</th>\n",
       "      <th id=\"T_3678f_level0_col8\" class=\"col_heading level0 col8\" >8</th>\n",
       "      <th id=\"T_3678f_level0_col9\" class=\"col_heading level0 col9\" >9</th>\n",
       "      <th id=\"T_3678f_level0_col10\" class=\"col_heading level0 col10\" >10</th>\n",
       "      <th id=\"T_3678f_level0_col11\" class=\"col_heading level0 col11\" >11</th>\n",
       "      <th id=\"T_3678f_level0_col12\" class=\"col_heading level0 col12\" >12</th>\n",
       "      <th id=\"T_3678f_level0_col13\" class=\"col_heading level0 col13\" >13</th>\n",
       "      <th id=\"T_3678f_level0_col14\" class=\"col_heading level0 col14\" >14</th>\n",
       "      <th id=\"T_3678f_level0_col15\" class=\"col_heading level0 col15\" >15</th>\n",
       "      <th id=\"T_3678f_level0_col16\" class=\"col_heading level0 col16\" >16</th>\n",
       "      <th id=\"T_3678f_level0_col17\" class=\"col_heading level0 col17\" >17</th>\n",
       "      <th id=\"T_3678f_level0_col18\" class=\"col_heading level0 col18\" >18</th>\n",
       "      <th id=\"T_3678f_level0_col19\" class=\"col_heading level0 col19\" >19</th>\n",
       "    </tr>\n",
       "  </thead>\n",
       "  <tbody>\n",
       "    <tr>\n",
       "      <th id=\"T_3678f_level0_row0\" class=\"row_heading level0 row0\" >0</th>\n",
       "      <td id=\"T_3678f_row0_col0\" class=\"data row0 col0\" >0</td>\n",
       "      <td id=\"T_3678f_row0_col1\" class=\"data row0 col1\" >0</td>\n",
       "      <td id=\"T_3678f_row0_col2\" class=\"data row0 col2\" >0</td>\n",
       "      <td id=\"T_3678f_row0_col3\" class=\"data row0 col3\" >0</td>\n",
       "      <td id=\"T_3678f_row0_col4\" class=\"data row0 col4\" >0</td>\n",
       "      <td id=\"T_3678f_row0_col5\" class=\"data row0 col5\" >0</td>\n",
       "      <td id=\"T_3678f_row0_col6\" class=\"data row0 col6\" >0</td>\n",
       "      <td id=\"T_3678f_row0_col7\" class=\"data row0 col7\" >0</td>\n",
       "      <td id=\"T_3678f_row0_col8\" class=\"data row0 col8\" >0</td>\n",
       "      <td id=\"T_3678f_row0_col9\" class=\"data row0 col9\" >0</td>\n",
       "      <td id=\"T_3678f_row0_col10\" class=\"data row0 col10\" >0</td>\n",
       "      <td id=\"T_3678f_row0_col11\" class=\"data row0 col11\" >0</td>\n",
       "      <td id=\"T_3678f_row0_col12\" class=\"data row0 col12\" >0</td>\n",
       "      <td id=\"T_3678f_row0_col13\" class=\"data row0 col13\" >0</td>\n",
       "      <td id=\"T_3678f_row0_col14\" class=\"data row0 col14\" >0</td>\n",
       "      <td id=\"T_3678f_row0_col15\" class=\"data row0 col15\" >0</td>\n",
       "      <td id=\"T_3678f_row0_col16\" class=\"data row0 col16\" >0</td>\n",
       "      <td id=\"T_3678f_row0_col17\" class=\"data row0 col17\" >0</td>\n",
       "      <td id=\"T_3678f_row0_col18\" class=\"data row0 col18\" >0</td>\n",
       "      <td id=\"T_3678f_row0_col19\" class=\"data row0 col19\" >0</td>\n",
       "    </tr>\n",
       "    <tr>\n",
       "      <th id=\"T_3678f_level0_row1\" class=\"row_heading level0 row1\" >1</th>\n",
       "      <td id=\"T_3678f_row1_col0\" class=\"data row1 col0\" >0</td>\n",
       "      <td id=\"T_3678f_row1_col1\" class=\"data row1 col1\" >0</td>\n",
       "      <td id=\"T_3678f_row1_col2\" class=\"data row1 col2\" >0</td>\n",
       "      <td id=\"T_3678f_row1_col3\" class=\"data row1 col3\" >0</td>\n",
       "      <td id=\"T_3678f_row1_col4\" class=\"data row1 col4\" >0</td>\n",
       "      <td id=\"T_3678f_row1_col5\" class=\"data row1 col5\" >0</td>\n",
       "      <td id=\"T_3678f_row1_col6\" class=\"data row1 col6\" >0</td>\n",
       "      <td id=\"T_3678f_row1_col7\" class=\"data row1 col7\" >0</td>\n",
       "      <td id=\"T_3678f_row1_col8\" class=\"data row1 col8\" >0</td>\n",
       "      <td id=\"T_3678f_row1_col9\" class=\"data row1 col9\" >0</td>\n",
       "      <td id=\"T_3678f_row1_col10\" class=\"data row1 col10\" >0</td>\n",
       "      <td id=\"T_3678f_row1_col11\" class=\"data row1 col11\" >0</td>\n",
       "      <td id=\"T_3678f_row1_col12\" class=\"data row1 col12\" >0</td>\n",
       "      <td id=\"T_3678f_row1_col13\" class=\"data row1 col13\" >0</td>\n",
       "      <td id=\"T_3678f_row1_col14\" class=\"data row1 col14\" >0</td>\n",
       "      <td id=\"T_3678f_row1_col15\" class=\"data row1 col15\" >0</td>\n",
       "      <td id=\"T_3678f_row1_col16\" class=\"data row1 col16\" >0</td>\n",
       "      <td id=\"T_3678f_row1_col17\" class=\"data row1 col17\" >0</td>\n",
       "      <td id=\"T_3678f_row1_col18\" class=\"data row1 col18\" >0</td>\n",
       "      <td id=\"T_3678f_row1_col19\" class=\"data row1 col19\" >0</td>\n",
       "    </tr>\n",
       "    <tr>\n",
       "      <th id=\"T_3678f_level0_row2\" class=\"row_heading level0 row2\" >2</th>\n",
       "      <td id=\"T_3678f_row2_col0\" class=\"data row2 col0\" >0</td>\n",
       "      <td id=\"T_3678f_row2_col1\" class=\"data row2 col1\" >0</td>\n",
       "      <td id=\"T_3678f_row2_col2\" class=\"data row2 col2\" >0</td>\n",
       "      <td id=\"T_3678f_row2_col3\" class=\"data row2 col3\" >0</td>\n",
       "      <td id=\"T_3678f_row2_col4\" class=\"data row2 col4\" >0</td>\n",
       "      <td id=\"T_3678f_row2_col5\" class=\"data row2 col5\" >0</td>\n",
       "      <td id=\"T_3678f_row2_col6\" class=\"data row2 col6\" >0</td>\n",
       "      <td id=\"T_3678f_row2_col7\" class=\"data row2 col7\" >0</td>\n",
       "      <td id=\"T_3678f_row2_col8\" class=\"data row2 col8\" >0</td>\n",
       "      <td id=\"T_3678f_row2_col9\" class=\"data row2 col9\" >0</td>\n",
       "      <td id=\"T_3678f_row2_col10\" class=\"data row2 col10\" >0</td>\n",
       "      <td id=\"T_3678f_row2_col11\" class=\"data row2 col11\" >0</td>\n",
       "      <td id=\"T_3678f_row2_col12\" class=\"data row2 col12\" >0</td>\n",
       "      <td id=\"T_3678f_row2_col13\" class=\"data row2 col13\" >0</td>\n",
       "      <td id=\"T_3678f_row2_col14\" class=\"data row2 col14\" >0</td>\n",
       "      <td id=\"T_3678f_row2_col15\" class=\"data row2 col15\" >0</td>\n",
       "      <td id=\"T_3678f_row2_col16\" class=\"data row2 col16\" >0</td>\n",
       "      <td id=\"T_3678f_row2_col17\" class=\"data row2 col17\" >0</td>\n",
       "      <td id=\"T_3678f_row2_col18\" class=\"data row2 col18\" >0</td>\n",
       "      <td id=\"T_3678f_row2_col19\" class=\"data row2 col19\" >0</td>\n",
       "    </tr>\n",
       "    <tr>\n",
       "      <th id=\"T_3678f_level0_row3\" class=\"row_heading level0 row3\" >3</th>\n",
       "      <td id=\"T_3678f_row3_col0\" class=\"data row3 col0\" >0</td>\n",
       "      <td id=\"T_3678f_row3_col1\" class=\"data row3 col1\" >0</td>\n",
       "      <td id=\"T_3678f_row3_col2\" class=\"data row3 col2\" >0</td>\n",
       "      <td id=\"T_3678f_row3_col3\" class=\"data row3 col3\" >0</td>\n",
       "      <td id=\"T_3678f_row3_col4\" class=\"data row3 col4\" >0</td>\n",
       "      <td id=\"T_3678f_row3_col5\" class=\"data row3 col5\" >0</td>\n",
       "      <td id=\"T_3678f_row3_col6\" class=\"data row3 col6\" >0</td>\n",
       "      <td id=\"T_3678f_row3_col7\" class=\"data row3 col7\" >0</td>\n",
       "      <td id=\"T_3678f_row3_col8\" class=\"data row3 col8\" >0</td>\n",
       "      <td id=\"T_3678f_row3_col9\" class=\"data row3 col9\" >0</td>\n",
       "      <td id=\"T_3678f_row3_col10\" class=\"data row3 col10\" >0</td>\n",
       "      <td id=\"T_3678f_row3_col11\" class=\"data row3 col11\" >0</td>\n",
       "      <td id=\"T_3678f_row3_col12\" class=\"data row3 col12\" >0</td>\n",
       "      <td id=\"T_3678f_row3_col13\" class=\"data row3 col13\" >0</td>\n",
       "      <td id=\"T_3678f_row3_col14\" class=\"data row3 col14\" >0</td>\n",
       "      <td id=\"T_3678f_row3_col15\" class=\"data row3 col15\" >0</td>\n",
       "      <td id=\"T_3678f_row3_col16\" class=\"data row3 col16\" >0</td>\n",
       "      <td id=\"T_3678f_row3_col17\" class=\"data row3 col17\" >0</td>\n",
       "      <td id=\"T_3678f_row3_col18\" class=\"data row3 col18\" >0</td>\n",
       "      <td id=\"T_3678f_row3_col19\" class=\"data row3 col19\" >0</td>\n",
       "    </tr>\n",
       "    <tr>\n",
       "      <th id=\"T_3678f_level0_row4\" class=\"row_heading level0 row4\" >4</th>\n",
       "      <td id=\"T_3678f_row4_col0\" class=\"data row4 col0\" >0</td>\n",
       "      <td id=\"T_3678f_row4_col1\" class=\"data row4 col1\" >0</td>\n",
       "      <td id=\"T_3678f_row4_col2\" class=\"data row4 col2\" >0</td>\n",
       "      <td id=\"T_3678f_row4_col3\" class=\"data row4 col3\" >0</td>\n",
       "      <td id=\"T_3678f_row4_col4\" class=\"data row4 col4\" >0</td>\n",
       "      <td id=\"T_3678f_row4_col5\" class=\"data row4 col5\" >0</td>\n",
       "      <td id=\"T_3678f_row4_col6\" class=\"data row4 col6\" >0</td>\n",
       "      <td id=\"T_3678f_row4_col7\" class=\"data row4 col7\" >0</td>\n",
       "      <td id=\"T_3678f_row4_col8\" class=\"data row4 col8\" >0</td>\n",
       "      <td id=\"T_3678f_row4_col9\" class=\"data row4 col9\" >0</td>\n",
       "      <td id=\"T_3678f_row4_col10\" class=\"data row4 col10\" >0</td>\n",
       "      <td id=\"T_3678f_row4_col11\" class=\"data row4 col11\" >0</td>\n",
       "      <td id=\"T_3678f_row4_col12\" class=\"data row4 col12\" >0</td>\n",
       "      <td id=\"T_3678f_row4_col13\" class=\"data row4 col13\" >0</td>\n",
       "      <td id=\"T_3678f_row4_col14\" class=\"data row4 col14\" >0</td>\n",
       "      <td id=\"T_3678f_row4_col15\" class=\"data row4 col15\" >0</td>\n",
       "      <td id=\"T_3678f_row4_col16\" class=\"data row4 col16\" >0</td>\n",
       "      <td id=\"T_3678f_row4_col17\" class=\"data row4 col17\" >0</td>\n",
       "      <td id=\"T_3678f_row4_col18\" class=\"data row4 col18\" >0</td>\n",
       "      <td id=\"T_3678f_row4_col19\" class=\"data row4 col19\" >0</td>\n",
       "    </tr>\n",
       "    <tr>\n",
       "      <th id=\"T_3678f_level0_row5\" class=\"row_heading level0 row5\" >5</th>\n",
       "      <td id=\"T_3678f_row5_col0\" class=\"data row5 col0\" >0</td>\n",
       "      <td id=\"T_3678f_row5_col1\" class=\"data row5 col1\" >0</td>\n",
       "      <td id=\"T_3678f_row5_col2\" class=\"data row5 col2\" >0</td>\n",
       "      <td id=\"T_3678f_row5_col3\" class=\"data row5 col3\" >12</td>\n",
       "      <td id=\"T_3678f_row5_col4\" class=\"data row5 col4\" >99</td>\n",
       "      <td id=\"T_3678f_row5_col5\" class=\"data row5 col5\" >91</td>\n",
       "      <td id=\"T_3678f_row5_col6\" class=\"data row5 col6\" >142</td>\n",
       "      <td id=\"T_3678f_row5_col7\" class=\"data row5 col7\" >155</td>\n",
       "      <td id=\"T_3678f_row5_col8\" class=\"data row5 col8\" >246</td>\n",
       "      <td id=\"T_3678f_row5_col9\" class=\"data row5 col9\" >182</td>\n",
       "      <td id=\"T_3678f_row5_col10\" class=\"data row5 col10\" >155</td>\n",
       "      <td id=\"T_3678f_row5_col11\" class=\"data row5 col11\" >155</td>\n",
       "      <td id=\"T_3678f_row5_col12\" class=\"data row5 col12\" >155</td>\n",
       "      <td id=\"T_3678f_row5_col13\" class=\"data row5 col13\" >155</td>\n",
       "      <td id=\"T_3678f_row5_col14\" class=\"data row5 col14\" >131</td>\n",
       "      <td id=\"T_3678f_row5_col15\" class=\"data row5 col15\" >52</td>\n",
       "      <td id=\"T_3678f_row5_col16\" class=\"data row5 col16\" >0</td>\n",
       "      <td id=\"T_3678f_row5_col17\" class=\"data row5 col17\" >0</td>\n",
       "      <td id=\"T_3678f_row5_col18\" class=\"data row5 col18\" >0</td>\n",
       "      <td id=\"T_3678f_row5_col19\" class=\"data row5 col19\" >0</td>\n",
       "    </tr>\n",
       "    <tr>\n",
       "      <th id=\"T_3678f_level0_row6\" class=\"row_heading level0 row6\" >6</th>\n",
       "      <td id=\"T_3678f_row6_col0\" class=\"data row6 col0\" >0</td>\n",
       "      <td id=\"T_3678f_row6_col1\" class=\"data row6 col1\" >0</td>\n",
       "      <td id=\"T_3678f_row6_col2\" class=\"data row6 col2\" >0</td>\n",
       "      <td id=\"T_3678f_row6_col3\" class=\"data row6 col3\" >138</td>\n",
       "      <td id=\"T_3678f_row6_col4\" class=\"data row6 col4\" >254</td>\n",
       "      <td id=\"T_3678f_row6_col5\" class=\"data row6 col5\" >254</td>\n",
       "      <td id=\"T_3678f_row6_col6\" class=\"data row6 col6\" >254</td>\n",
       "      <td id=\"T_3678f_row6_col7\" class=\"data row6 col7\" >254</td>\n",
       "      <td id=\"T_3678f_row6_col8\" class=\"data row6 col8\" >254</td>\n",
       "      <td id=\"T_3678f_row6_col9\" class=\"data row6 col9\" >254</td>\n",
       "      <td id=\"T_3678f_row6_col10\" class=\"data row6 col10\" >254</td>\n",
       "      <td id=\"T_3678f_row6_col11\" class=\"data row6 col11\" >254</td>\n",
       "      <td id=\"T_3678f_row6_col12\" class=\"data row6 col12\" >254</td>\n",
       "      <td id=\"T_3678f_row6_col13\" class=\"data row6 col13\" >254</td>\n",
       "      <td id=\"T_3678f_row6_col14\" class=\"data row6 col14\" >254</td>\n",
       "      <td id=\"T_3678f_row6_col15\" class=\"data row6 col15\" >252</td>\n",
       "      <td id=\"T_3678f_row6_col16\" class=\"data row6 col16\" >210</td>\n",
       "      <td id=\"T_3678f_row6_col17\" class=\"data row6 col17\" >122</td>\n",
       "      <td id=\"T_3678f_row6_col18\" class=\"data row6 col18\" >33</td>\n",
       "      <td id=\"T_3678f_row6_col19\" class=\"data row6 col19\" >0</td>\n",
       "    </tr>\n",
       "    <tr>\n",
       "      <th id=\"T_3678f_level0_row7\" class=\"row_heading level0 row7\" >7</th>\n",
       "      <td id=\"T_3678f_row7_col0\" class=\"data row7 col0\" >0</td>\n",
       "      <td id=\"T_3678f_row7_col1\" class=\"data row7 col1\" >0</td>\n",
       "      <td id=\"T_3678f_row7_col2\" class=\"data row7 col2\" >0</td>\n",
       "      <td id=\"T_3678f_row7_col3\" class=\"data row7 col3\" >220</td>\n",
       "      <td id=\"T_3678f_row7_col4\" class=\"data row7 col4\" >254</td>\n",
       "      <td id=\"T_3678f_row7_col5\" class=\"data row7 col5\" >254</td>\n",
       "      <td id=\"T_3678f_row7_col6\" class=\"data row7 col6\" >254</td>\n",
       "      <td id=\"T_3678f_row7_col7\" class=\"data row7 col7\" >235</td>\n",
       "      <td id=\"T_3678f_row7_col8\" class=\"data row7 col8\" >189</td>\n",
       "      <td id=\"T_3678f_row7_col9\" class=\"data row7 col9\" >189</td>\n",
       "      <td id=\"T_3678f_row7_col10\" class=\"data row7 col10\" >189</td>\n",
       "      <td id=\"T_3678f_row7_col11\" class=\"data row7 col11\" >189</td>\n",
       "      <td id=\"T_3678f_row7_col12\" class=\"data row7 col12\" >150</td>\n",
       "      <td id=\"T_3678f_row7_col13\" class=\"data row7 col13\" >189</td>\n",
       "      <td id=\"T_3678f_row7_col14\" class=\"data row7 col14\" >205</td>\n",
       "      <td id=\"T_3678f_row7_col15\" class=\"data row7 col15\" >254</td>\n",
       "      <td id=\"T_3678f_row7_col16\" class=\"data row7 col16\" >254</td>\n",
       "      <td id=\"T_3678f_row7_col17\" class=\"data row7 col17\" >254</td>\n",
       "      <td id=\"T_3678f_row7_col18\" class=\"data row7 col18\" >75</td>\n",
       "      <td id=\"T_3678f_row7_col19\" class=\"data row7 col19\" >0</td>\n",
       "    </tr>\n",
       "    <tr>\n",
       "      <th id=\"T_3678f_level0_row8\" class=\"row_heading level0 row8\" >8</th>\n",
       "      <td id=\"T_3678f_row8_col0\" class=\"data row8 col0\" >0</td>\n",
       "      <td id=\"T_3678f_row8_col1\" class=\"data row8 col1\" >0</td>\n",
       "      <td id=\"T_3678f_row8_col2\" class=\"data row8 col2\" >0</td>\n",
       "      <td id=\"T_3678f_row8_col3\" class=\"data row8 col3\" >35</td>\n",
       "      <td id=\"T_3678f_row8_col4\" class=\"data row8 col4\" >74</td>\n",
       "      <td id=\"T_3678f_row8_col5\" class=\"data row8 col5\" >35</td>\n",
       "      <td id=\"T_3678f_row8_col6\" class=\"data row8 col6\" >35</td>\n",
       "      <td id=\"T_3678f_row8_col7\" class=\"data row8 col7\" >25</td>\n",
       "      <td id=\"T_3678f_row8_col8\" class=\"data row8 col8\" >0</td>\n",
       "      <td id=\"T_3678f_row8_col9\" class=\"data row8 col9\" >0</td>\n",
       "      <td id=\"T_3678f_row8_col10\" class=\"data row8 col10\" >0</td>\n",
       "      <td id=\"T_3678f_row8_col11\" class=\"data row8 col11\" >0</td>\n",
       "      <td id=\"T_3678f_row8_col12\" class=\"data row8 col12\" >0</td>\n",
       "      <td id=\"T_3678f_row8_col13\" class=\"data row8 col13\" >0</td>\n",
       "      <td id=\"T_3678f_row8_col14\" class=\"data row8 col14\" >13</td>\n",
       "      <td id=\"T_3678f_row8_col15\" class=\"data row8 col15\" >224</td>\n",
       "      <td id=\"T_3678f_row8_col16\" class=\"data row8 col16\" >254</td>\n",
       "      <td id=\"T_3678f_row8_col17\" class=\"data row8 col17\" >254</td>\n",
       "      <td id=\"T_3678f_row8_col18\" class=\"data row8 col18\" >153</td>\n",
       "      <td id=\"T_3678f_row8_col19\" class=\"data row8 col19\" >0</td>\n",
       "    </tr>\n",
       "    <tr>\n",
       "      <th id=\"T_3678f_level0_row9\" class=\"row_heading level0 row9\" >9</th>\n",
       "      <td id=\"T_3678f_row9_col0\" class=\"data row9 col0\" >0</td>\n",
       "      <td id=\"T_3678f_row9_col1\" class=\"data row9 col1\" >0</td>\n",
       "      <td id=\"T_3678f_row9_col2\" class=\"data row9 col2\" >0</td>\n",
       "      <td id=\"T_3678f_row9_col3\" class=\"data row9 col3\" >0</td>\n",
       "      <td id=\"T_3678f_row9_col4\" class=\"data row9 col4\" >0</td>\n",
       "      <td id=\"T_3678f_row9_col5\" class=\"data row9 col5\" >0</td>\n",
       "      <td id=\"T_3678f_row9_col6\" class=\"data row9 col6\" >0</td>\n",
       "      <td id=\"T_3678f_row9_col7\" class=\"data row9 col7\" >0</td>\n",
       "      <td id=\"T_3678f_row9_col8\" class=\"data row9 col8\" >0</td>\n",
       "      <td id=\"T_3678f_row9_col9\" class=\"data row9 col9\" >0</td>\n",
       "      <td id=\"T_3678f_row9_col10\" class=\"data row9 col10\" >0</td>\n",
       "      <td id=\"T_3678f_row9_col11\" class=\"data row9 col11\" >0</td>\n",
       "      <td id=\"T_3678f_row9_col12\" class=\"data row9 col12\" >0</td>\n",
       "      <td id=\"T_3678f_row9_col13\" class=\"data row9 col13\" >0</td>\n",
       "      <td id=\"T_3678f_row9_col14\" class=\"data row9 col14\" >90</td>\n",
       "      <td id=\"T_3678f_row9_col15\" class=\"data row9 col15\" >254</td>\n",
       "      <td id=\"T_3678f_row9_col16\" class=\"data row9 col16\" >254</td>\n",
       "      <td id=\"T_3678f_row9_col17\" class=\"data row9 col17\" >247</td>\n",
       "      <td id=\"T_3678f_row9_col18\" class=\"data row9 col18\" >53</td>\n",
       "      <td id=\"T_3678f_row9_col19\" class=\"data row9 col19\" >0</td>\n",
       "    </tr>\n",
       "  </tbody>\n",
       "</table>\n"
      ],
      "text/plain": [
       "<pandas.io.formats.style.Styler at 0x325d32bd0>"
      ]
     },
     "execution_count": 46,
     "metadata": {},
     "output_type": "execute_result"
    }
   ],
   "source": [
    "df = pd.DataFrame(im3_t[:10,:20])\n",
    "df.style.set_properties(**{'font-size':'6pt'}).background_gradient('Greys')"
   ]
  },
  {
   "cell_type": "code",
   "execution_count": 47,
   "id": "2913e569-eb7b-4979-a7ed-6175f069e072",
   "metadata": {},
   "outputs": [],
   "source": [
    "#There’s a top edge at cell 5,7. Let’s repeat our calculation there:"
   ]
  },
  {
   "cell_type": "code",
   "execution_count": 48,
   "id": "c55c23e3-ca47-436e-a93c-d977dda0af7f",
   "metadata": {},
   "outputs": [
    {
     "data": {
      "text/plain": [
       "tensor(762.)"
      ]
     },
     "execution_count": 48,
     "metadata": {},
     "output_type": "execute_result"
    }
   ],
   "source": [
    "(im3_t[4:7,6:9] * top_edge).sum()\n"
   ]
  },
  {
   "cell_type": "code",
   "execution_count": 49,
   "id": "71320ad7-69ae-4dff-b849-7b96c28290ca",
   "metadata": {},
   "outputs": [],
   "source": [
    "#There’s a right edge at cell 8,18. What does that give us?"
   ]
  },
  {
   "cell_type": "code",
   "execution_count": 50,
   "id": "e869d863-5343-455c-8ff8-45036453b869",
   "metadata": {},
   "outputs": [
    {
     "data": {
      "text/plain": [
       "tensor(-29.)"
      ]
     },
     "execution_count": 50,
     "metadata": {},
     "output_type": "execute_result"
    }
   ],
   "source": [
    "(im3_t[7:10,17:20] * top_edge).sum()"
   ]
  },
  {
   "cell_type": "code",
   "execution_count": 51,
   "id": "a6debb0d-c13c-49ac-ac03-ce7e73eaaba0",
   "metadata": {},
   "outputs": [],
   "source": [
    "#Let’s look a tiny bit at the math. The filter will take any window of size 3×3 in our images, \n",
    "#and if we name the pixel values like this\n",
    "#a1 a2 a3 a4 a5 a6 a7 a8 a9\n",
    "\n",
    "#it will return a1+a2+a3−a7−a8−a9. If we are in a part of the image where a1, a2, and a3 add up to the same as a7, a8, and a9, then the terms will cancel each other out and we will get 0\n",
    "\n",
    "#However, if a1 is greater than a7, a2 is greater than a8, and a3 is greater than a9, we will get a bigger number as a result. So this filter detects horizon‐ tal edges—more precisely, edges where we go from bright parts of the image at the top to darker parts at the bottom.\n",
    "\n",
    "#Changing our filter to have the row of 1s at the top and the –1s at the bottom would detect horizontal edges that go from dark to light.\n",
    "\n",
    "#Putting the 1s and –1s in columns versus rows would give us filters that detect vertical edges. Each set of weights will produce a different kind of outcome.\n"
   ]
  },
  {
   "cell_type": "code",
   "execution_count": 52,
   "id": "cd1ef23a-d38b-4886-b814-deb372c9cad2",
   "metadata": {},
   "outputs": [
    {
     "data": {
      "text/plain": [
       "tensor(762.)"
      ]
     },
     "execution_count": 52,
     "metadata": {},
     "output_type": "execute_result"
    }
   ],
   "source": [
    "#Let’s create a function to do this for one location, and check that it matches our result from before:\n",
    "\n",
    "def apply_kernel(row, col, kernel):\n",
    "    return (im3_t[row-1:row+2,col-1:col+2] * kernel).sum()\n",
    "apply_kernel(5,7,top_edge)\n",
    "\n",
    "\n",
    "#But note that we can’t apply it to the corner (e.g., location 0,0), since there isn’t a com‐ plete 3×3 square there."
   ]
  },
  {
   "cell_type": "code",
   "execution_count": 53,
   "id": "9bae29c2-5ee7-41d5-8e55-4d23214c78bc",
   "metadata": {},
   "outputs": [
    {
     "data": {
      "text/plain": [
       "[[(1, 1), (1, 2), (1, 3), (1, 4)],\n",
       " [(2, 1), (2, 2), (2, 3), (2, 4)],\n",
       " [(3, 1), (3, 2), (3, 3), (3, 4)],\n",
       " [(4, 1), (4, 2), (4, 3), (4, 4)]]"
      ]
     },
     "execution_count": 53,
     "metadata": {},
     "output_type": "execute_result"
    }
   ],
   "source": [
    "#To get a grid of coordinates, we can use a nested list comprehension, like so:\n",
    "\n",
    "[[(i,j) for j in range(1,5)] for i in range(1,5)]"
   ]
  },
  {
   "cell_type": "code",
   "execution_count": 54,
   "id": "bb610239-9a87-4352-94dd-260e397833a2",
   "metadata": {},
   "outputs": [
    {
     "data": {
      "image/png": "[encoded data removed]",
      "text/plain": [
       "<Figure size 100x100 with 1 Axes>"
      ]
     },
     "metadata": {},
     "output_type": "display_data"
    }
   ],
   "source": [
    "#Here’s the result of applying our kernel over a coordinate grid:\n",
    "\n",
    "rng = range(1,27)\n",
    "top_edge3 = tensor([[apply_kernel(i,j,top_edge) for j in rng] for i in rng])\n",
    "show_image(top_edge3);\n"
   ]
  },
  {
   "cell_type": "code",
   "execution_count": 55,
   "id": "31eca40c-4d45-4910-801b-104378de505d",
   "metadata": {},
   "outputs": [
    {
     "data": {
      "image/png": "[encoded data removed]",
      "text/plain": [
       "<Figure size 100x100 with 1 Axes>"
      ]
     },
     "metadata": {},
     "output_type": "display_data"
    }
   ],
   "source": [
    "#Now that our image contains negative numbers too, mat plotlib has automatically changed our colors so that white is the smallest number in the image, black the highest, and zeros appear as gray\n",
    "\n",
    "#We can try the same thing for left edges:\n",
    "\n",
    "left_edge = tensor([[-1,1,0],\n",
    "                    [-1,1,0],\n",
    "                    [-1,1,0]]).float()\n",
    "left_edge3 = tensor([[apply_kernel(i,j,left_edge) for j in rng] for i in rng])\n",
    "show_image(left_edge3);\n"
   ]
  },
  {
   "cell_type": "code",
   "execution_count": 56,
   "id": "a863cb92-4c9b-4f68-b75a-0ad31222857b",
   "metadata": {},
   "outputs": [
    {
     "data": {
      "text/plain": [
       "torch.Size([4, 3, 3])"
      ]
     },
     "execution_count": 56,
     "metadata": {},
     "output_type": "execute_result"
    }
   ],
   "source": [
    "#Convolution is such an important and widely used operation that PyTorch has it built in. It’s called F.conv2d (recall that F is a fastai import from torch.nn.functional, as recommended by PyTorch). PyTorch docs tell us that it includes these parameters\n",
    "\n",
    "#input\n",
    "#input tensor of shape (minibatch, in_channels, iH, iW)\n",
    "#weight\n",
    "#filters of shape (out_channels, in_channels, kH, kW\n",
    "\n",
    "#Here iH,iW is the height and width of the image (i.e., 28,28), and kH,kW is the height and width of our kernel (3,3)\n",
    "\n",
    "#PyTorch can apply a convolution to multiple images at the same time. That means we can call it on every item in a batch at once!\n",
    "\n",
    "#The second trick is that PyTorch can apply multiple kernels at the same time. So let’s create the diagonal-edge kernels too, and then stack all four of our edge kernels into a single tensor:\n",
    "\n",
    "diag1_edge = tensor([[ 0,-1, 1],\n",
    "                     [-1, 1, 0],\n",
    "                     [ 1, 0, 0]]).float()\n",
    "diag2_edge = tensor([[ 1,-1, 0],\n",
    "                     [ 0, 1,-1],\n",
    "                     [ 0, 0, 1]]).float()\n",
    "edge_kernels = torch.stack([left_edge, top_edge, diag1_edge, diag2_edge])\n",
    "edge_kernels.shape"
   ]
  },
  {
   "cell_type": "code",
   "execution_count": 57,
   "id": "08e6fd1c-be6f-42c4-9c85-a8d8879c22f0",
   "metadata": {},
   "outputs": [
    {
     "data": {
      "text/plain": [
       "torch.Size([64, 1, 28, 28])"
      ]
     },
     "execution_count": 57,
     "metadata": {},
     "output_type": "execute_result"
    }
   ],
   "source": [
    "#To test this, we’ll need a DataLoader and a sample mini-batch. Let’s use the data block API:\n",
    "\n",
    "\n",
    "mnist = DataBlock((ImageBlock(cls=PILImageBW), CategoryBlock),\n",
    "                      get_items=get_image_files,\n",
    "                      splitter=GrandparentSplitter(),\n",
    "                      get_y=parent_label)\n",
    "dls = mnist.dataloaders(path)\n",
    "xb,yb = first(dls.valid)\n",
    "xb.shape"
   ]
  },
  {
   "cell_type": "code",
   "execution_count": 58,
   "id": "21acd080-0e8e-4564-b68c-8b75db287646",
   "metadata": {},
   "outputs": [],
   "source": [
    "#By default, fastai puts data on the GPU when using data blocks. Let’s move it to the CPU for our examples:\n",
    "\n",
    "xb,yb = to_cpu(xb),to_cpu(yb)"
   ]
  },
  {
   "cell_type": "code",
   "execution_count": 59,
   "id": "e793523a-eeed-487f-961c-0c0803c0a908",
   "metadata": {},
   "outputs": [],
   "source": [
    "#One batch contains 64 images, each of 1 channel, with 28×28 pixels. F.conv2d can handle multichannel (color) images too. A channel is a single basic color in an image —for regular full-color images, there are three channels, red, green, and blue. PyTorch represents an image as a rank-3 tensor, with these dimensions:\n",
    "#[channels, rows, columns]"
   ]
  },
  {
   "cell_type": "code",
   "execution_count": 60,
   "id": "b8f449cf-9aae-402e-9b2c-e5448d3d9b45",
   "metadata": {},
   "outputs": [],
   "source": [
    "#We’ll see how to handle more than one channel later in this chapter. Kernels passed to\n",
    "#F.conv2d need to be rank-4 tensors\n",
    "\n",
    "#[channels_in, features_out, rows, columns]\n",
    "\n",
    "\n",
    "#edge_kernels is currently missing one of these: we need to tell PyTorch that the number of input channels in the kernel is one, which we can do by inserting an axis of size one (this is known as a unit axis) in the first location, where the PyTorch docs show in_channels is expected. To insert a unit axis into a tensor, we use the unsqueeze method:"
   ]
  },
  {
   "cell_type": "code",
   "execution_count": 61,
   "id": "36946e44-6083-4ed3-b6b6-486dade2b0e6",
   "metadata": {},
   "outputs": [
    {
     "data": {
      "text/plain": [
       "(torch.Size([4, 3, 3]), torch.Size([4, 1, 3, 3]))"
      ]
     },
     "execution_count": 61,
     "metadata": {},
     "output_type": "execute_result"
    }
   ],
   "source": [
    "edge_kernels.shape,edge_kernels.unsqueeze(1).shape"
   ]
  },
  {
   "cell_type": "code",
   "execution_count": 62,
   "id": "e65aaab1-ae19-449d-91f4-04133255cf42",
   "metadata": {},
   "outputs": [
    {
     "data": {
      "text/plain": [
       "torch.Size([64, 4, 26, 26])"
      ]
     },
     "execution_count": 62,
     "metadata": {},
     "output_type": "execute_result"
    }
   ],
   "source": [
    "#This is now the correct shape for edge_kernels. Let’s pass this all to conv2d:\n",
    "\n",
    "edge_kernels = edge_kernels.unsqueeze(1)\n",
    "batch_features = F.conv2d(xb, edge_kernels)\n",
    "batch_features.shape"
   ]
  },
  {
   "cell_type": "code",
   "execution_count": 63,
   "id": "c098e320-7e21-47ca-8d42-3d13e11ae623",
   "metadata": {},
   "outputs": [
    {
     "data": {
      "image/png": "[encoded data removed]",
      "text/plain": [
       "<Figure size 100x100 with 1 Axes>"
      ]
     },
     "metadata": {},
     "output_type": "display_data"
    }
   ],
   "source": [
    "#The output shape shows we have 64 images in the mini-batch, 4 kernels, and 26×26 edge maps (we started with 28×28 images, but lost one pixel from each side as dis‐ cussed earlier). We can see we get the same results as when we did this manually:\n",
    "\n",
    "show_image(batch_features[0,0]); #to display the first image in the first channel of the batch\n"
   ]
  },
  {
   "cell_type": "code",
   "execution_count": 64,
   "id": "97aeec39-0609-441c-b70c-e517d4b55787",
   "metadata": {},
   "outputs": [],
   "source": [
    "#It would be nice to not lose those two pixels on each axis. The way we do that is to add padding\n",
    "\n",
    "#which is simply additional pixels added around the outside of our image. Most commonly, pixels of zeros are added.\n",
    "\n"
   ]
  },
  {
   "cell_type": "code",
   "execution_count": 65,
   "id": "9e54e5c0-e5b7-43d4-8ffb-b4648caff2a7",
   "metadata": {},
   "outputs": [],
   "source": [
    "#Strides and Padding, With appropriate padding, we can ensure that the output activation map is the same size as the original image, which can make things a lot simpler when we construct our architectures\n",
    "\n",
    "#understanding convolution equation page 413.. "
   ]
  },
  {
   "cell_type": "code",
   "execution_count": null,
   "id": "19c3516b-c293-4020-9d6b-7c23755ca654",
   "metadata": {},
   "outputs": [],
   "source": [
    "#First Conv NN, creating CNN\n"
   ]
  },
  {
   "cell_type": "code",
   "execution_count": 67,
   "id": "e6b00136-7e78-4749-b98b-8810f07898bc",
   "metadata": {},
   "outputs": [],
   "source": [
    "simple_net = nn.Sequential(\n",
    "        nn.Linear(28*28,30),\n",
    "        nn.ReLU(),\n",
    "        nn.Linear(30,1)\n",
    ")\n"
   ]
  },
  {
   "cell_type": "code",
   "execution_count": 68,
   "id": "890b71ab-4908-4e98-bcfc-444fededfae5",
   "metadata": {},
   "outputs": [
    {
     "data": {
      "text/plain": [
       "Sequential(\n",
       "  (0): Linear(in_features=784, out_features=30, bias=True)\n",
       "  (1): ReLU()\n",
       "  (2): Linear(in_features=30, out_features=1, bias=True)\n",
       ")"
      ]
     },
     "execution_count": 68,
     "metadata": {},
     "output_type": "execute_result"
    }
   ],
   "source": [
    "simple_net\n"
   ]
  },
  {
   "cell_type": "code",
   "execution_count": 69,
   "id": "3b64c6c1-5c8d-4343-baab-70cedf0e6c1c",
   "metadata": {},
   "outputs": [],
   "source": [
    "broken_cnn = sequential(\n",
    "        nn.Conv2d(1,30, kernel_size=3, padding=1),\n",
    "        nn.ReLU(),\n",
    "        nn.Conv2d(30,1, kernel_size=3, padding=1)\n",
    ")\n",
    "#One thing to note here is that we didn’t need to specify 28*28 as the input size. That’s because a linear layer needs a weight in the weight matrix for every pixel, so it needs to know how many pixels there are, but a convolution is applied over each pixel auto‐ matically. The weights depend only on the number of input and output channels and the kernel size"
   ]
  },
  {
   "cell_type": "code",
   "execution_count": 70,
   "id": "542fba96-619b-48ce-a087-505db0d2fb04",
   "metadata": {},
   "outputs": [
    {
     "data": {
      "text/plain": [
       "torch.Size([64, 1, 28, 28])"
      ]
     },
     "execution_count": 70,
     "metadata": {},
     "output_type": "execute_result"
    }
   ],
   "source": [
    "#output shape\n",
    "\n",
    "broken_cnn(xb).shape"
   ]
  },
  {
   "cell_type": "code",
   "execution_count": 71,
   "id": "18007878-0373-4a49-bc21-0732b05f832f",
   "metadata": {},
   "outputs": [],
   "source": [
    "#This is not something we can use to do classification, since we need a single output activation per image, not a 28×28 map of activations. One way to deal with this is to use enough stride-2 convolutions such that the final layer is size 1. After one stride-2 convolution, the size will be 14×14; after two, it will be 7×7; then 4×4, 2×2, and finally size 1.\n"
   ]
  },
  {
   "cell_type": "code",
   "execution_count": 72,
   "id": "6c1aed0e-0279-42da-9561-fe0ddb9b2a28",
   "metadata": {},
   "outputs": [],
   "source": [
    "#First, we’ll define a function with the basic parameters we’ll use in each convolution:\n",
    "\n",
    "def conv(ni, nf, ks=3, act=True):\n",
    "    res = nn.Conv2d(ni, nf, stride=2, kernel_size=ks, padding=ks//2) \n",
    "    if act: res = nn.Sequential(res, nn.ReLU())\n",
    "    return res\n"
   ]
  },
  {
   "cell_type": "code",
   "execution_count": 73,
   "id": "979b9a6d-6dcb-4256-9cc3-38b393b89961",
   "metadata": {},
   "outputs": [],
   "source": [
    "#When we use a stride-2 convolution, we often increase the number of features at the same time. This is because we’re decreasing the number of activations in the activa‐ tion map by a factor of 4; we don’t want to decrease the capacity of a layer by too much at a time."
   ]
  },
  {
   "cell_type": "code",
   "execution_count": 74,
   "id": "432ae7c2-2845-4570-be4c-cd41ed44ce9f",
   "metadata": {},
   "outputs": [],
   "source": [
    "#Here is how we can build a simple CNN:\n",
    "simple_cnn = sequential(\n",
    "    conv(1 ,4), #14x14 \n",
    "    conv(4 ,8), #7x7 \n",
    "    conv(8 ,16), #4x4 \n",
    "    conv(16,32), #2x2 \n",
    "    conv(32,2, act=False), #1x1 \n",
    "    Flatten(),\n",
    ")"
   ]
  },
  {
   "cell_type": "code",
   "execution_count": 75,
   "id": "cd6c93e8-ab43-439b-9e81-2f06410d01b0",
   "metadata": {},
   "outputs": [],
   "source": [
    "#Now the network outputs two activations, which map to the two possible levels in our labels:"
   ]
  },
  {
   "cell_type": "code",
   "execution_count": 76,
   "id": "c7b91da8-6ad4-4c7e-8800-d7e93be29ec6",
   "metadata": {},
   "outputs": [
    {
     "data": {
      "text/plain": [
       "torch.Size([64, 2])"
      ]
     },
     "execution_count": 76,
     "metadata": {},
     "output_type": "execute_result"
    }
   ],
   "source": [
    "simple_cnn(xb).shape"
   ]
  },
  {
   "cell_type": "code",
   "execution_count": 77,
   "id": "6ef7bf89-184c-4f5d-8e83-b1e499175076",
   "metadata": {},
   "outputs": [],
   "source": [
    "#We can now create our Learner:\n",
    "learn = Learner(dls, simple_cnn, loss_func=F.cross_entropy, metrics=accuracy)"
   ]
  },
  {
   "cell_type": "code",
   "execution_count": 78,
   "id": "7340ab9a-ea8c-4712-ac0a-b7e5c954b99b",
   "metadata": {},
   "outputs": [
    {
     "data": {
      "text/html": [],
      "text/plain": [
       "<IPython.core.display.HTML object>"
      ]
     },
     "metadata": {},
     "output_type": "display_data"
    },
    {
     "data": {
      "text/plain": [
       "Sequential (Input shape: 64 x 1 x 28 x 28)\n",
       "============================================================================\n",
       "Layer (type)         Output Shape         Param #    Trainable \n",
       "============================================================================\n",
       "                     64 x 4 x 14 x 14    \n",
       "Conv2d                                    40         True      \n",
       "ReLU                                                           \n",
       "____________________________________________________________________________\n",
       "                     64 x 8 x 7 x 7      \n",
       "Conv2d                                    296        True      \n",
       "ReLU                                                           \n",
       "____________________________________________________________________________\n",
       "                     64 x 16 x 4 x 4     \n",
       "Conv2d                                    1168       True      \n",
       "ReLU                                                           \n",
       "____________________________________________________________________________\n",
       "                     64 x 32 x 2 x 2     \n",
       "Conv2d                                    4640       True      \n",
       "ReLU                                                           \n",
       "____________________________________________________________________________\n",
       "                     64 x 2 x 1 x 1      \n",
       "Conv2d                                    578        True      \n",
       "____________________________________________________________________________\n",
       "                     64 x 2              \n",
       "Flatten                                                        \n",
       "____________________________________________________________________________\n",
       "\n",
       "Total params: 6,722\n",
       "Total trainable params: 6,722\n",
       "Total non-trainable params: 0\n",
       "\n",
       "Optimizer used: <function Adam at 0x322fa22a0>\n",
       "Loss function: <function cross_entropy at 0x10fd12160>\n",
       "\n",
       "Callbacks:\n",
       "  - TrainEvalCallback\n",
       "  - CastToTensor\n",
       "  - Recorder\n",
       "  - ProgressCallback"
      ]
     },
     "execution_count": 78,
     "metadata": {},
     "output_type": "execute_result"
    }
   ],
   "source": [
    "learn.summary()"
   ]
  },
  {
   "cell_type": "code",
   "execution_count": 79,
   "id": "e574e1a4-61af-4de4-af16-4010eabf4af2",
   "metadata": {},
   "outputs": [
    {
     "data": {
      "text/html": [
       "<table border=\"1\" class=\"dataframe\">\n",
       "  <thead>\n",
       "    <tr style=\"text-align: left;\">\n",
       "      <th>epoch</th>\n",
       "      <th>train_loss</th>\n",
       "      <th>valid_loss</th>\n",
       "      <th>accuracy</th>\n",
       "      <th>time</th>\n",
       "    </tr>\n",
       "  </thead>\n",
       "  <tbody>\n",
       "    <tr>\n",
       "      <td>0</td>\n",
       "      <td>0.068123</td>\n",
       "      <td>0.036752</td>\n",
       "      <td>0.987733</td>\n",
       "      <td>00:07</td>\n",
       "    </tr>\n",
       "    <tr>\n",
       "      <td>1</td>\n",
       "      <td>0.026694</td>\n",
       "      <td>0.027532</td>\n",
       "      <td>0.989205</td>\n",
       "      <td>00:03</td>\n",
       "    </tr>\n",
       "  </tbody>\n",
       "</table>"
      ],
      "text/plain": [
       "<IPython.core.display.HTML object>"
      ]
     },
     "metadata": {},
     "output_type": "display_data"
    }
   ],
   "source": [
    "learn.fit_one_cycle(2, 0.01)\n"
   ]
  },
  {
   "cell_type": "code",
   "execution_count": 80,
   "id": "79942e45-b150-4a46-8cf2-43cbabf19aa8",
   "metadata": {},
   "outputs": [],
   "source": [
    "#Understanding Convolution Arithmetic"
   ]
  },
  {
   "cell_type": "code",
   "execution_count": 81,
   "id": "820b2b7e-943f-424c-a68b-39f9fea10bda",
   "metadata": {},
   "outputs": [
    {
     "data": {
      "text/plain": [
       "Sequential(\n",
       "  (0): Conv2d(1, 4, kernel_size=(3, 3), stride=(2, 2), padding=(1, 1))\n",
       "  (1): ReLU()\n",
       ")"
      ]
     },
     "execution_count": 81,
     "metadata": {},
     "output_type": "execute_result"
    }
   ],
   "source": [
    "m = learn.model[0]\n",
    "m"
   ]
  },
  {
   "cell_type": "code",
   "execution_count": 82,
   "id": "c6f8c5bd-cf0e-4b59-8812-8dec7c9cba5b",
   "metadata": {},
   "outputs": [
    {
     "data": {
      "text/plain": [
       "torch.Size([4, 1, 3, 3])"
      ]
     },
     "execution_count": 82,
     "metadata": {},
     "output_type": "execute_result"
    }
   ],
   "source": [
    "#So we have 1 input channel, 4 output channels, and a 3×3 kernel. Let’s check the weights of the first convolution:\n",
    "\n",
    "m[0].weight.shape"
   ]
  },
  {
   "cell_type": "code",
   "execution_count": 83,
   "id": "3cb9f3eb-3ec4-47bb-9086-7d6205338394",
   "metadata": {},
   "outputs": [
    {
     "data": {
      "text/plain": [
       "torch.Size([4])"
      ]
     },
     "execution_count": 83,
     "metadata": {},
     "output_type": "execute_result"
    }
   ],
   "source": [
    "#The summary shows we have 40 parameters, and 4*1*3*3 is 36. What are the other\n",
    "#four parameters? Let’s see what the bias contains:\n",
    "\n",
    "m[0].bias.shape"
   ]
  },
  {
   "cell_type": "code",
   "execution_count": 84,
   "id": "0f3d1ff8-a59e-42a1-9989-4fb1f9e11a32",
   "metadata": {},
   "outputs": [],
   "source": [
    "#We can now use this information to clarify our statement in the previous section: “When we use a stride-2 convolution, we often increase the number of features\n",
    "                     #418 | Chapter 13: Convolutional Neural Networks\n",
    "#because we’re decreasing the number of activations in the activation map by a factor of 4; we don’t want to decrease the capacity of a layer by too much at a time.”"
   ]
  },
  {
   "cell_type": "code",
   "execution_count": 85,
   "id": "f913a02f-3e2f-4769-90e9-0dfb4bc71d98",
   "metadata": {},
   "outputs": [],
   "source": [
    "#There is one bias for each channel. (Sometimes channels are called features or filters when they are not input channels.) The output shape is 64x4x14x14, and this will therefore become the input shape to the next layer. The next layer, according to summary, has 296 parameters. Let’s ignore the batch axis to keep things simple. So, for each of 14*14=196 locations, we are multiplying 296-8=288 weights (ignoring the bias for simplicity), so that’s 196*288=56_448 multiplications at this layer. The next layer will have 7*7*(1168-16)=56_448 multiplications."
   ]
  },
  {
   "cell_type": "code",
   "execution_count": 86,
   "id": "a0edf296-3d91-4b24-80cf-c3be6f8bd1bf",
   "metadata": {},
   "outputs": [],
   "source": [
    "#What happened here is that our stride-2 convolution halved the grid size from 14x14 to 7x7, and we doubled the number of filters from 8 to 16, resulting in no overall change in the amount of computation. If we left the number of channels the same in each stride-2 layer, the amount of computation being done in the net would get less and less as it gets deeper. But we know that the deeper layers have to compute seman‐ tically rich features (such as eyes or fur), so we wouldn’t expect that doing less compu‐ tation would make sense."
   ]
  },
  {
   "cell_type": "code",
   "execution_count": 88,
   "id": "0244d14b-df77-4f1e-a6bd-3b137426b371",
   "metadata": {},
   "outputs": [],
   "source": [
    "#Receptive field: area of an image taht is involved in the circulatuin of a layer. \n",
    "#THE DEEPER WE ARE IN NETWORK THE LARGER THE RECEPTIVE FIELD FOR AN ACTIVATION. \n",
    "#large field means large amount of inpiut image is used to calculate each activation in that layer. \n"
   ]
  },
  {
   "cell_type": "code",
   "execution_count": 89,
   "id": "8ee3a5ef-52de-45bc-9274-36ae26f6f6d6",
   "metadata": {},
   "outputs": [],
   "source": [
    "#Therefore, we’d expect that we’d need more weights for each of our features to handle this increasing complexity. This is another way of saying the same thing we mentioned in the previous section: when we introduce a stride-2 conv in our net‐ work, we should also increase the number of channels."
   ]
  },
  {
   "cell_type": "code",
   "execution_count": 90,
   "id": "999fb556-e787-49c1-8002-b23f10a183ee",
   "metadata": {},
   "outputs": [],
   "source": [
    "# Improving training stability"
   ]
  },
  {
   "cell_type": "code",
   "execution_count": 92,
   "id": "ccd1bbfc-a3c8-4522-ab91-e4d3ec2482d3",
   "metadata": {},
   "outputs": [
    {
     "data": {
      "text/html": [
       "\n",
       "    <div>\n",
       "        <style>\n",
       "            /* Turns off some styling */\n",
       "            progress {\n",
       "                /* gets rid of default border in Firefox and Opera. */\n",
       "                border: none;\n",
       "                /* Needs to be in here for Safari polyfill so background images work as expected. */\n",
       "                background-size: auto;\n",
       "            }\n",
       "            .progress-bar-interrupted, .progress-bar-interrupted::-webkit-progress-bar {\n",
       "                background: #F44336;\n",
       "            }\n",
       "        </style>\n",
       "      <progress value='15687680' class='' max='15683414' style='width:300px; height:20px; vertical-align: middle;'></progress>\n",
       "      100.03% [15687680/15683414 00:23<00:00]\n",
       "    </div>\n",
       "    "
      ],
      "text/plain": [
       "<IPython.core.display.HTML object>"
      ]
     },
     "metadata": {},
     "output_type": "display_data"
    },
    {
     "data": {
      "text/plain": [
       "(#2) [Path('/Users/riteshgaire/.fastai/data/mnist_png/training'),Path('/Users/riteshgaire/.fastai/data/mnist_png/testing')]"
      ]
     },
     "execution_count": 92,
     "metadata": {},
     "output_type": "execute_result"
    }
   ],
   "source": [
    "path = untar_data(URLs.MNIST)\n",
    "path.ls()"
   ]
  },
  {
   "cell_type": "code",
   "execution_count": 93,
   "id": "033ab493-2962-4c93-ac96-6eceba53a907",
   "metadata": {},
   "outputs": [],
   "source": [
    "# The data is in two folders named training and testing, so we have to tell GrandparentSplitter about that (it defaults to train and valid). We do that in the get_dls function, which we define to make it easy to change our batch size later:\n",
    "\n",
    "def get_dls(bs=64): \n",
    "    return DataBlock(\n",
    "        blocks=(ImageBlock(cls=PILImageBW), CategoryBlock),\n",
    "        get_items=get_image_files,\n",
    "        splitter=GrandparentSplitter('training','testing'),\n",
    "        get_y=parent_label,\n",
    "        batch_tfms=Normalize()\n",
    "        ).dataloaders(path, bs=bs)\n",
    "dls = get_dls()"
   ]
  },
  {
   "cell_type": "code",
   "execution_count": 94,
   "id": "af39b1b2-6d2e-4c9b-836b-ccf2e3787d09",
   "metadata": {},
   "outputs": [
    {
     "data": {
      "image/png": "[encoded data removed]",
      "text/plain": [
       "<Figure size 400x400 with 9 Axes>"
      ]
     },
     "metadata": {},
     "output_type": "display_data"
    }
   ],
   "source": [
    "dls.show_batch(max_n=9, figsize=(4,4))"
   ]
  },
  {
   "cell_type": "code",
   "execution_count": 95,
   "id": "108c5f32-f69f-4f77-bb2b-89fdd4daa560",
   "metadata": {},
   "outputs": [],
   "source": [
    "#A Simple Baseline\n",
    "\n",
    "def conv(ni, nf, ks=3, act=True):\n",
    "    res = nn.Conv2d(ni, nf, stride=2, kernel_size=ks, padding=ks//2) \n",
    "    if act: res = nn.Sequential(res, nn.ReLU())\n",
    "    return res"
   ]
  },
  {
   "cell_type": "code",
   "execution_count": 96,
   "id": "2b834e4a-f4f8-49f1-9869-d97968f73378",
   "metadata": {},
   "outputs": [],
   "source": [
    "#we can use a larger kernel in the first layer. If we use a kernel of 5×5 pixels, 25 pixels are being used at each kernel application. Creating eight filters from this will mean the neural net will have to find some useful features:"
   ]
  },
  {
   "cell_type": "code",
   "execution_count": 97,
   "id": "ecf0406a-567f-477e-9cf2-6099d90283e4",
   "metadata": {},
   "outputs": [],
   "source": [
    "def simple_cnn(): \n",
    "    return sequential(\n",
    "        conv(1 ,8, ks=5), #14x14 \n",
    "        conv(8 ,16), #7x7 \n",
    "        conv(16,32), #4x4 \n",
    "        conv(32,64), #2x2 \n",
    "        conv(64,10, act=False), #1x1 \n",
    "        Flatten(),\n",
    ")"
   ]
  },
  {
   "cell_type": "code",
   "execution_count": 98,
   "id": "272db8ce-23ef-48d1-9e53-eb0c798e1a1a",
   "metadata": {},
   "outputs": [],
   "source": [
    "#As you’ll see in a moment, we can look inside our models while they’re training in order to try to find ways to make them train better. To do this, we use the Activation Stats callback, which records the mean, standard deviation, and histogram of activa‐ tions of every trainable layer (as we’ve seen, callbacks are used to add behavior to the training loop"
   ]
  },
  {
   "cell_type": "code",
   "execution_count": 99,
   "id": "cc478a12-6e2d-4073-9548-64d416dda931",
   "metadata": {},
   "outputs": [],
   "source": [
    "from fastai.callback.hook import *"
   ]
  },
  {
   "cell_type": "code",
   "execution_count": 100,
   "id": "5b212573-bc88-4de3-b610-8f25f6982496",
   "metadata": {},
   "outputs": [
    {
     "name": "stderr",
     "output_type": "stream",
     "text": [
      "/Users/riteshgaire/anaconda3/lib/python3.11/site-packages/fastai/callback/core.py:69: UserWarning: You are shadowing an attribute (modules) that exists in the learner. Use `self.learn.modules` to avoid this\n",
      "  warn(f\"You are shadowing an attribute ({name}) that exists in the learner. Use `self.learn.{name}` to avoid this\")\n"
     ]
    },
    {
     "data": {
      "text/html": [
       "<table border=\"1\" class=\"dataframe\">\n",
       "  <thead>\n",
       "    <tr style=\"text-align: left;\">\n",
       "      <th>epoch</th>\n",
       "      <th>train_loss</th>\n",
       "      <th>valid_loss</th>\n",
       "      <th>accuracy</th>\n",
       "      <th>time</th>\n",
       "    </tr>\n",
       "  </thead>\n",
       "  <tbody>\n",
       "    <tr>\n",
       "      <td>0</td>\n",
       "      <td>2.308279</td>\n",
       "      <td>2.304279</td>\n",
       "      <td>0.097400</td>\n",
       "      <td>00:32</td>\n",
       "    </tr>\n",
       "  </tbody>\n",
       "</table>"
      ],
      "text/plain": [
       "<IPython.core.display.HTML object>"
      ]
     },
     "metadata": {},
     "output_type": "display_data"
    }
   ],
   "source": [
    "#We want to train quickly, so that means training at a high learning rate. Let’s see how\n",
    "#we go at 0.06:\n",
    "\n",
    "def fit(epochs=1):\n",
    "    learn = Learner(dls, simple_cnn(), loss_func=F.cross_entropy,\n",
    "                        metrics=accuracy, cbs=ActivationStats(with_hist=True))\n",
    "    learn.fit(epochs, 0.10)\n",
    "    return learn \n",
    "learn = fit()"
   ]
  },
  {
   "cell_type": "code",
   "execution_count": 101,
   "id": "399f0b7e-d020-4bfa-a7fc-faa4613e2205",
   "metadata": {},
   "outputs": [],
   "source": [
    "#One handy feature of the callbacks passed to Learner is that they are made available automatically, with the same name as the callback class, except in camel_case. So, our ActivationStats callback can be accessed through activation_stats. I’m sure you remember learn.recorder...can you guess how that is implemented? That’s right, it’s a callback called Recorder!"
   ]
  },
  {
   "cell_type": "code",
   "execution_count": 102,
   "id": "368c4152-685e-48b2-85cd-2ccdd99950b3",
   "metadata": {},
   "outputs": [],
   "source": [
    "#ActivationStats includes some handy utilities for plotting the activations during training. plot_layer_stats(idx) plots the mean and standard deviation of the acti‐ vations of layer number idx, along with the percentage of activations near zero. Here’s the first layer’s plot"
   ]
  },
  {
   "cell_type": "code",
   "execution_count": 103,
   "id": "150ff5e1-e152-4a06-b494-d96cd00b690e",
   "metadata": {},
   "outputs": [
    {
     "data": {
      "image/png": "[encoded data removed]",
      "text/plain": [
       "<Figure size 1200x300 with 3 Axes>"
      ]
     },
     "metadata": {},
     "output_type": "display_data"
    }
   ],
   "source": [
    "learn.activation_stats.plot_layer_stats(0)"
   ]
  },
  {
   "cell_type": "code",
   "execution_count": 104,
   "id": "7f2e28f2-c916-4828-8364-d4d8c307349c",
   "metadata": {},
   "outputs": [
    {
     "data": {
      "image/png": "[encoded data removed]",
      "text/plain": [
       "<Figure size 1200x300 with 3 Axes>"
      ]
     },
     "metadata": {},
     "output_type": "display_data"
    }
   ],
   "source": [
    "#Generally our model should have a consistent, or at least smooth, mean and standard deviation of layer activations \n",
    "#during training. Activations near zero are particularly problematic, because it means we have computation in the \n",
    "#model that’s doing noth‐ ing at all (since multiplying by zero gives zero). When you have some zeros in one layer, \n",
    "#they will therefore generally carry over to the next layer...which will then create more zeros. \n",
    "#Here’s the penultimate layer of our network:\n",
    "\n",
    "learn.activation_stats.plot_layer_stats(-2)"
   ]
  },
  {
   "cell_type": "code",
   "execution_count": 105,
   "id": "e90ee137-5648-4477-b487-1082fc333442",
   "metadata": {},
   "outputs": [],
   "source": [
    "#As expected, the problems get worse toward the end of the network, as the instability and zero activations compound over \n",
    "#layers. Let’s look at what we can do to make training more stable."
   ]
  },
  {
   "cell_type": "code",
   "execution_count": 106,
   "id": "6d1d4734-4974-4333-ba3b-ec626c6806f7",
   "metadata": {},
   "outputs": [],
   "source": [
    "#Increase the Batch Size"
   ]
  },
  {
   "cell_type": "code",
   "execution_count": null,
   "id": "2e67654b-1b1f-487b-b459-b7d6ff806600",
   "metadata": {},
   "outputs": [],
   "source": [
    "#One way to make training more stable is to increase the batch size. Larger batches have gradients that are more accurate, since they’re calculated from more data. On the downside, though, a larger batch size means fewer batches per epoch, which means fewer opportunities for your model to update weights. Let’s see if a batch size of 512 helps:"
   ]
  },
  {
   "cell_type": "code",
   "execution_count": 108,
   "id": "d0569e8d-0798-403b-bee4-4084584b6437",
   "metadata": {},
   "outputs": [
    {
     "data": {
      "text/html": [
       "<table border=\"1\" class=\"dataframe\">\n",
       "  <thead>\n",
       "    <tr style=\"text-align: left;\">\n",
       "      <th>epoch</th>\n",
       "      <th>train_loss</th>\n",
       "      <th>valid_loss</th>\n",
       "      <th>accuracy</th>\n",
       "      <th>time</th>\n",
       "    </tr>\n",
       "  </thead>\n",
       "  <tbody>\n",
       "    <tr>\n",
       "      <td>0</td>\n",
       "      <td>0.614708</td>\n",
       "      <td>0.365941</td>\n",
       "      <td>0.887200</td>\n",
       "      <td>00:24</td>\n",
       "    </tr>\n",
       "  </tbody>\n",
       "</table>"
      ],
      "text/plain": [
       "<IPython.core.display.HTML object>"
      ]
     },
     "metadata": {},
     "output_type": "display_data"
    }
   ],
   "source": [
    "dls = get_dls(512)\n",
    "learn = fit()"
   ]
  },
  {
   "cell_type": "code",
   "execution_count": 109,
   "id": "9481d671-dceb-41f8-8682-24448c2162a2",
   "metadata": {},
   "outputs": [
    {
     "data": {
      "image/png": "[encoded data removed]",
      "text/plain": [
       "<Figure size 1200x300 with 3 Axes>"
      ]
     },
     "metadata": {},
     "output_type": "display_data"
    }
   ],
   "source": [
    "#Let’s see what the penultimate layer looks like:\n",
    "\n",
    "learn.activation_stats.plot_layer_stats(-2)\n"
   ]
  },
  {
   "cell_type": "code",
   "execution_count": 110,
   "id": "e77cca94-20c5-423a-9b68-a4adbdfbac85",
   "metadata": {},
   "outputs": [],
   "source": [
    "#Again, we’ve got most of our activations near zero. Let’s see what else we can do to improve training stability."
   ]
  },
  {
   "cell_type": "code",
   "execution_count": 111,
   "id": "f8e60153-97c1-47c3-8295-adf58c0f6cab",
   "metadata": {},
   "outputs": [],
   "source": [
    "#1cycle Training"
   ]
  },
  {
   "cell_type": "code",
   "execution_count": 112,
   "id": "5e381666-2d11-4148-8f0f-38b4534543c2",
   "metadata": {},
   "outputs": [],
   "source": [
    "#Our initial weights are not well suited to the task we’re trying to solve. Therefore, it is dangerous to begin training with a high learning rate: we may very well make the training diverge instantly, as we’ve seen. We probably don’t want to end training with a high learning rate either, so that we don’t skip over a minimum. But we want to train at a high learning rate for the rest of the training period, because we’ll be able to train more quickly that way. Therefore, we should change the learning rate during training, from low, to high, and then back to low again."
   ]
  },
  {
   "cell_type": "code",
   "execution_count": 113,
   "id": "62e6540e-1b3c-4ee8-9876-d49d666392a6",
   "metadata": {},
   "outputs": [],
   "source": [
    "#1cycle training allows us to use a much higher maximum learning rate than other types of training, which gives two benefits:"
   ]
  },
  {
   "cell_type": "code",
   "execution_count": 114,
   "id": "23d06170-2d34-4914-945c-c57ac915b0a9",
   "metadata": {},
   "outputs": [
    {
     "data": {
      "text/html": [
       "<table border=\"1\" class=\"dataframe\">\n",
       "  <thead>\n",
       "    <tr style=\"text-align: left;\">\n",
       "      <th>epoch</th>\n",
       "      <th>train_loss</th>\n",
       "      <th>valid_loss</th>\n",
       "      <th>accuracy</th>\n",
       "      <th>time</th>\n",
       "    </tr>\n",
       "  </thead>\n",
       "  <tbody>\n",
       "    <tr>\n",
       "      <td>0</td>\n",
       "      <td>0.219906</td>\n",
       "      <td>0.076190</td>\n",
       "      <td>0.975400</td>\n",
       "      <td>00:24</td>\n",
       "    </tr>\n",
       "  </tbody>\n",
       "</table>"
      ],
      "text/plain": [
       "<IPython.core.display.HTML object>"
      ]
     },
     "metadata": {},
     "output_type": "display_data"
    }
   ],
   "source": [
    "def fit(epochs=1, lr=0.06):\n",
    "    learn = Learner(dls, simple_cnn(), loss_func=F.cross_entropy,\n",
    "                        metrics=accuracy, cbs=ActivationStats(with_hist=True))\n",
    "    learn.fit_one_cycle(epochs, lr)\n",
    "    return learn \n",
    "learn = fit()"
   ]
  },
  {
   "cell_type": "code",
   "execution_count": 115,
   "id": "9153ff16-c1b4-4a33-8f2e-1a7ad21230a7",
   "metadata": {},
   "outputs": [],
   "source": [
    "#We can view the learning rate and momentum throughout training by calling plot_sched on learn.recorder. learn.recorder (as the name suggests) records everything that happens during training, including losses, metrics, and hyperparame‐ ters such as learning rate and momentum:"
   ]
  },
  {
   "cell_type": "code",
   "execution_count": 116,
   "id": "8b42a305-278f-498e-9999-05925e675628",
   "metadata": {},
   "outputs": [
    {
     "data": {
      "image/png": "[encoded data removed]",
      "text/plain": [
       "<Figure size 1200x400 with 2 Axes>"
      ]
     },
     "metadata": {},
     "output_type": "display_data"
    }
   ],
   "source": [
    "learn.recorder.plot_sched()"
   ]
  },
  {
   "cell_type": "code",
   "execution_count": 117,
   "id": "d7ce8f95-6a8c-4730-939f-1ce10b8eea6d",
   "metadata": {},
   "outputs": [],
   "source": [
    "#Smith’s original 1cycle paper used a linear warmup and linear annealing. As you can see, we adapted the approach in fastai by combining it with another popular approach: cosine annealing. fit_one_cycle provides the following parameters you can adjust:"
   ]
  },
  {
   "cell_type": "code",
   "execution_count": 118,
   "id": "1a404a24-5471-42f0-b1c1-bdd70cacac94",
   "metadata": {},
   "outputs": [],
   "source": [
    "#lr_max\n",
    "#The highest learning rate that will be used (this can also be a list of learning rates for each layer group, or a Python slice object containing the first and last layer group learning rates)"
   ]
  },
  {
   "cell_type": "code",
   "execution_count": 119,
   "id": "916e0bea-cd1f-4359-8acf-3bfeac2fbd87",
   "metadata": {},
   "outputs": [],
   "source": [
    "#div\n",
    "#How much to divide lr_max by to get the starting learning rate\n",
    "\n",
    "#div_final\n",
    "#How much to divide lr_max by to get the ending learning rate\n",
    "\n",
    "#pct_start\n",
    "#What percentage of the batches to use for the warmup\n",
    "\n",
    "#moms\n",
    "#A tuple (mom1,mom2,mom3), where mom1 is the initial momentum, mom2 is the minimum momentum, and mom3 is the final momentum\n"
   ]
  },
  {
   "cell_type": "code",
   "execution_count": 120,
   "id": "9fba8dd2-ee60-4886-8cbc-a2afe10882f8",
   "metadata": {},
   "outputs": [
    {
     "data": {
      "image/png": "[encoded data removed]",
      "text/plain": [
       "<Figure size 1200x300 with 3 Axes>"
      ]
     },
     "metadata": {},
     "output_type": "display_data"
    }
   ],
   "source": [
    "learn.activation_stats.plot_layer_stats(-2)"
   ]
  },
  {
   "cell_type": "code",
   "execution_count": 121,
   "id": "cca5d019-809d-463d-85fe-803714c2c38c",
   "metadata": {},
   "outputs": [],
   "source": [
    "#the percentage of non zero weight is getting better, although it's qui9te high. We can see evernb more about whats going \n",
    "#on our training using color_dim passing it a layer index. "
   ]
  },
  {
   "cell_type": "code",
   "execution_count": 122,
   "id": "6f0f71e1-96c1-444b-b7d4-3ec369aa681c",
   "metadata": {},
   "outputs": [
    {
     "data": {
      "image/png": "[encoded data removed]",
      "text/plain": [
       "<Figure size 1000x500 with 1 Axes>"
      ]
     },
     "metadata": {},
     "output_type": "display_data"
    }
   ],
   "source": [
    "learn.activation_stats.color_dim(-2)"
   ]
  },
  {
   "cell_type": "code",
   "execution_count": 123,
   "id": "6862e639-8453-4eb6-a324-3b77a6fff128",
   "metadata": {},
   "outputs": [],
   "source": [
    "#the idea if color_dim is to plot a histogram of the activations of the layer, which we would hope \n",
    "#would follow a smooth pattern such as the normal distribution. "
   ]
  },
  {
   "cell_type": "code",
   "execution_count": 124,
   "id": "00080c06-9a24-4e2c-94ec-f643c7d3a50a",
   "metadata": {},
   "outputs": [],
   "source": [
    "#The final plot for each layer is made by stacking the histogram of the activations from each batch along the \n",
    "#horizontal axis. So each vertical slice in the visualisation repre‐ sents the histogram of activations for a single batch.\n",
    "#The color intensity corresponds to the height of the histogram; in other words, the number of activations \n",
    "#in each histo‐ gram bin."
   ]
  },
  {
   "cell_type": "code",
   "execution_count": 131,
   "id": "8d115bdb-aafb-4dfa-b939-49537b2d8907",
   "metadata": {},
   "outputs": [
    {
     "data": {
      "image/png": "[encoded data removed]",
      "text/plain": [
       "<Figure size 1000x500 with 1 Axes>"
      ]
     },
     "metadata": {},
     "output_type": "display_data"
    }
   ],
   "source": [
    " learn.activation_stats.color_dim(-2)"
   ]
  },
  {
   "cell_type": "code",
   "execution_count": 132,
   "id": "fffc3260-b684-4f3e-9fec-aa773b46ac61",
   "metadata": {},
   "outputs": [],
   "source": [
    "#This shows a classic picture of “bad training.” We start with nearly all activations \n",
    "#at zero—that’s what we see at the far left, with all the dark blue.\n",
    "\n",
    "#The bright yellow at the bottom represents the near-zero activations. \n",
    "#Then, over the first few batches, we see the number of nonzero activations exponentially increasing.\n",
    "\n",
    "#But it goes too far and collapses! We see the dark blue return, and the bottom becomes bright yellow again. It almost looks like training restarts from scratch. Then we see the activations increase again and collapse again. After repeating this a few times, eventually we see a spread of activations throughout the range."
   ]
  },
  {
   "cell_type": "code",
   "execution_count": 133,
   "id": "62ac7eb6-f1a8-489b-b062-bf306fb82441",
   "metadata": {},
   "outputs": [],
   "source": [
    "#It’s much better if training can be smooth from the start. \n",
    "#The cycles of exponential increase and then collapse tend to result in a lot of near-zero activations, \n",
    "#resulting in slow training and poor final results. One way to solve this problem is to use batch normalization."
   ]
  },
  {
   "cell_type": "code",
   "execution_count": 134,
   "id": "49712c7d-e9ed-4d40-a950-cf6b5f799625",
   "metadata": {},
   "outputs": [],
   "source": [
    "#Batch Normalization"
   ]
  },
  {
   "cell_type": "code",
   "execution_count": 135,
   "id": "4fac69d5-860d-4588-ab88-4a6df381ddf1",
   "metadata": {},
   "outputs": [],
   "source": [
    "#To fix the slow training and poor final results we ended up with in the previous sec‐ tion, \n",
    "#we need to fix the initial large percentage of near-zero activations, and then try to maintain a \n",
    "#good distribution of activations throughout training."
   ]
  },
  {
   "cell_type": "code",
   "execution_count": 136,
   "id": "8620c87d-ef96-40a1-a7e5-a8b35cf2fee3",
   "metadata": {},
   "outputs": [],
   "source": [
    "#Batch normalization (often called batchnorm) works by taking an average of the mean and standard deviations of the \n",
    "#activations of a layer and using those to normalize the activations. However, this can cause problems because the \n",
    "#network might want some activations to be really high in order to make accurate predictions. So they also added two \n",
    "#learnable parameters (meaning they will be updated in the SGD step), usually called gamma and beta. After normalizing \n",
    "#the activations to get some new activation vector y, a batchnorm layer returns gamma*y + beta."
   ]
  },
  {
   "cell_type": "code",
   "execution_count": 137,
   "id": "62aa076c-ca01-48dd-8177-b8e1e55f4f69",
   "metadata": {},
   "outputs": [
    {
     "data": {
      "text/html": [
       "<table border=\"1\" class=\"dataframe\">\n",
       "  <thead>\n",
       "    <tr style=\"text-align: left;\">\n",
       "      <th>epoch</th>\n",
       "      <th>train_loss</th>\n",
       "      <th>valid_loss</th>\n",
       "      <th>accuracy</th>\n",
       "      <th>time</th>\n",
       "    </tr>\n",
       "  </thead>\n",
       "  <tbody>\n",
       "    <tr>\n",
       "      <td>0</td>\n",
       "      <td>0.136206</td>\n",
       "      <td>0.061562</td>\n",
       "      <td>0.984800</td>\n",
       "      <td>00:27</td>\n",
       "    </tr>\n",
       "  </tbody>\n",
       "</table>"
      ],
      "text/plain": [
       "<IPython.core.display.HTML object>"
      ]
     },
     "metadata": {},
     "output_type": "display_data"
    }
   ],
   "source": [
    "#Let’s add a batchnorm layer to conv:\n",
    "\n",
    "def conv(ni, nf, ks=3, act=True):\n",
    "    layers = [nn.Conv2d(ni, nf, stride=2, kernel_size=ks, padding=ks//2)] \n",
    "    layers.append(nn.BatchNorm2d(nf))\n",
    "    if act: layers.append(nn.ReLU())\n",
    "    return nn.Sequential(*layers)\n",
    "\n",
    "learn = fit()"
   ]
  },
  {
   "cell_type": "code",
   "execution_count": 140,
   "id": "ad2627d7-2eba-4f28-9a2a-b3f02ce37396",
   "metadata": {},
   "outputs": [
    {
     "data": {
      "image/png": "[encoded data removed]",
      "text/plain": [
       "<Figure size 1000x500 with 1 Axes>"
      ]
     },
     "metadata": {},
     "output_type": "display_data"
    }
   ],
   "source": [
    "learn.activation_stats.color_dim(-4)\n"
   ]
  },
  {
   "cell_type": "code",
   "execution_count": 141,
   "id": "b5b3c3ba-0731-4301-a659-0de9088db0f7",
   "metadata": {},
   "outputs": [],
   "source": [
    "#This is just what we hope to see: a smooth development of activations, with no “crashes.” Batchnorm has really delivered on its promise here! In fact, batchnorm has been so successful that we see it (or something very similar) in nearly all modern neural networks."
   ]
  },
  {
   "cell_type": "code",
   "execution_count": 142,
   "id": "545dc6e3-eb7d-47cd-bf7e-1afcbfc675b4",
   "metadata": {},
   "outputs": [],
   "source": [
    "#An interesting observation about models containing batch normalization layers is that they tend to generalize better than models that don’t contain them. Although we haven’t as yet seen a rigorous analysis of what’s going on here, most researchers believe that the reason is that batch normalization adds some extra randomness to the training process. Each mini-batch will have a somewhat different mean and standard deviation than other mini-batches. Therefore, the activations will be normalized by different values each time. In order for the model to make accurate predictions, it will have to learn to become robust to these variations. In general, adding additional ran‐ domization to the training process often helps."
   ]
  },
  {
   "cell_type": "code",
   "execution_count": 143,
   "id": "26958792-5138-4081-b2bf-6704780463fd",
   "metadata": {},
   "outputs": [],
   "source": [
    "#Since things are going so well, let’s train for a few more epochs and see how it goes. In fact, let’s increase the \n",
    "#learning rate, since the abstract of the batchnorm paper claimed we should be able to “train at much higher \n",
    "#learning rates”:"
   ]
  },
  {
   "cell_type": "code",
   "execution_count": 144,
   "id": "35c23954-b70a-4edd-a4b3-0f889991df29",
   "metadata": {},
   "outputs": [
    {
     "data": {
      "text/html": [
       "<table border=\"1\" class=\"dataframe\">\n",
       "  <thead>\n",
       "    <tr style=\"text-align: left;\">\n",
       "      <th>epoch</th>\n",
       "      <th>train_loss</th>\n",
       "      <th>valid_loss</th>\n",
       "      <th>accuracy</th>\n",
       "      <th>time</th>\n",
       "    </tr>\n",
       "  </thead>\n",
       "  <tbody>\n",
       "    <tr>\n",
       "      <td>0</td>\n",
       "      <td>0.227522</td>\n",
       "      <td>0.103573</td>\n",
       "      <td>0.971200</td>\n",
       "      <td>00:25</td>\n",
       "    </tr>\n",
       "    <tr>\n",
       "      <td>1</td>\n",
       "      <td>0.096264</td>\n",
       "      <td>0.130377</td>\n",
       "      <td>0.963300</td>\n",
       "      <td>00:25</td>\n",
       "    </tr>\n",
       "    <tr>\n",
       "      <td>2</td>\n",
       "      <td>0.066615</td>\n",
       "      <td>0.075507</td>\n",
       "      <td>0.977400</td>\n",
       "      <td>00:25</td>\n",
       "    </tr>\n",
       "    <tr>\n",
       "      <td>3</td>\n",
       "      <td>0.053786</td>\n",
       "      <td>0.053795</td>\n",
       "      <td>0.982800</td>\n",
       "      <td>00:25</td>\n",
       "    </tr>\n",
       "    <tr>\n",
       "      <td>4</td>\n",
       "      <td>0.047570</td>\n",
       "      <td>0.044588</td>\n",
       "      <td>0.986300</td>\n",
       "      <td>00:25</td>\n",
       "    </tr>\n",
       "    <tr>\n",
       "      <td>5</td>\n",
       "      <td>0.036909</td>\n",
       "      <td>0.046579</td>\n",
       "      <td>0.985300</td>\n",
       "      <td>00:25</td>\n",
       "    </tr>\n",
       "    <tr>\n",
       "      <td>6</td>\n",
       "      <td>0.026269</td>\n",
       "      <td>0.028598</td>\n",
       "      <td>0.992000</td>\n",
       "      <td>00:25</td>\n",
       "    </tr>\n",
       "    <tr>\n",
       "      <td>7</td>\n",
       "      <td>0.016947</td>\n",
       "      <td>0.028766</td>\n",
       "      <td>0.990600</td>\n",
       "      <td>00:26</td>\n",
       "    </tr>\n",
       "    <tr>\n",
       "      <td>8</td>\n",
       "      <td>0.009310</td>\n",
       "      <td>0.026451</td>\n",
       "      <td>0.992500</td>\n",
       "      <td>00:26</td>\n",
       "    </tr>\n",
       "    <tr>\n",
       "      <td>9</td>\n",
       "      <td>0.005422</td>\n",
       "      <td>0.025578</td>\n",
       "      <td>0.992900</td>\n",
       "      <td>00:26</td>\n",
       "    </tr>\n",
       "  </tbody>\n",
       "</table>"
      ],
      "text/plain": [
       "<IPython.core.display.HTML object>"
      ]
     },
     "metadata": {},
     "output_type": "display_data"
    }
   ],
   "source": [
    "learn = fit(10, lr=0.1)"
   ]
  },
  {
   "cell_type": "code",
   "execution_count": null,
   "id": "fa7b51bc-c368-464e-800e-ed8888d90b48",
   "metadata": {},
   "outputs": [],
   "source": []
  }
 ],
 "metadata": {
  "kernelspec": {
   "display_name": "Python 3 (ipykernel)",
   "language": "python",
   "name": "python3"
  },
  "language_info": {
   "codemirror_mode": {
    "name": "ipython",
    "version": 3
   },
   "file_extension": ".py",
   "mimetype": "text/x-python",
   "name": "python",
   "nbconvert_exporter": "python",
   "pygments_lexer": "ipython3",
   "version": "3.11.5"
  }
 },
 "nbformat": 4,
 "nbformat_minor": 5
}
